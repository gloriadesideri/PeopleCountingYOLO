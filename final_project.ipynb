{
 "cells": [
  {
   "cell_type": "code",
   "execution_count": 2,
   "metadata": {},
   "outputs": [],
   "source": [
    "import cv2\n",
    "import numpy as np\n",
    "import matplotlib.pyplot as plt\n",
    "\n",
    "from scipy import ndimage\n",
    "from PIL import Image\n",
    "import glob\n",
    "import imutils\n",
    "\n",
    "import os"
   ]
  },
  {
   "cell_type": "code",
   "execution_count": 3,
   "metadata": {},
   "outputs": [],
   "source": [
    "# Load ToF image\n",
    "images_normalized=[]\n",
    "\n",
    "#Gloria path\n",
    "#for filename in glob.glob('/content/drive/MyDrive/PerceptionAI/data/depths/*.png'):\n",
    "\n",
    "#Julie Path\n",
    "for filename in glob.glob('./depths/*.png'):\n",
    "    #print(\"here\")\n",
    "    frame = cv2.imread(filename)\n",
    "\n",
    "    # Normalize the image\n",
    "    img_normalized = cv2.normalize(frame, None, 0, 255, cv2.NORM_MINMAX, dtype=cv2.CV_8U)\n",
    "    images_normalized.append(img_normalized)\n",
    "    # Display the normalized image\n",
    "    #cv2.imshow(\"image normalized\",img_normalized)\n",
    "    #cv2.waitKey(0)\n",
    "\n",
    "    # Obtenez le nom du fichier sans le chemin\n",
    "    file_name = os.path.basename(filename)\n",
    "\n",
    "    # Construisez le chemin du fichier de sortie\n",
    "    #output_path = os.path.join('/content/drive/MyDrive/PerceptionAI/data/normalized', file_name)\n",
    "\n",
    "    # Enregistrez l'image normalisée\n",
    "    #cv2.imwrite(output_path, img_normalized)\n",
    "\n",
    "# Close all windows\n",
    "#cv2.destroyAllWindows()"
   ]
  },
  {
   "cell_type": "code",
   "execution_count": 5,
   "metadata": {},
   "outputs": [],
   "source": [
    "#first method I try is to retrieve with a single filter knowing that the camera is positioned at 255 centimeters from the ground I get everithing between 170 and 254\n",
    "depth_map = images_normalized[1][:, :, 2]\n",
    "\n",
    "# Set the lower and upper thresholds for filtering\n",
    "lower_threshold = 30\n",
    "upper_threshold = 180\n",
    "\n",
    "# Create a binary mask based on the threshold values\n",
    "binary_mask = cv2.inRange(depth_map, lower_threshold, upper_threshold)\n",
    "\n",
    "# Apply the binary mask to the original image to extract the filtered pixels\n",
    "filtered_image = cv2.bitwise_and(depth_map, depth_map, mask=binary_mask)\n",
    "\n",
    "# Display the original and filtered images\n",
    "#cv2_imshow(depth_map)\n",
    "cv2.imshow( \"filtered_image\",filtered_image)\n",
    "cv2.waitKey(0)\n",
    "cv2.destroyAllWindows()"
   ]
  },
  {
   "cell_type": "code",
   "execution_count": null,
   "metadata": {},
   "outputs": [],
   "source": [
    "#good but I still get the wall\n",
    "contours, hierarchy  = cv2.findContours(filtered_image, cv2.RETR_EXTERNAL, cv2.CHAIN_APPROX_SIMPLE)\n",
    "contour_image = np.copy(images_normalized[0])\n",
    "for i, contour in enumerate(contours):\n",
    "    area = cv2.contourArea(contour)\n",
    "    print(f\"Area of Object {i + 1}: {area} square units\")"
   ]
  },
  {
   "cell_type": "code",
   "execution_count": null,
   "metadata": {},
   "outputs": [],
   "source": [
    "# Draw contours on the original image\n",
    "contour_image = np.copy(images_normalized[1])\n",
    "filtered_contours = [contour for contour in contours if 3000 < cv2.contourArea(contour) < 9000]\n",
    "\n",
    "cv2.drawContours(contour_image, filtered_contours, -1, (0, 255, 0), 2) \n",
    "cv2_imshow(contour_image)"
   ]
  },
  {
   "cell_type": "code",
   "execution_count": null,
   "metadata": {},
   "outputs": [],
   "source": [
    "def show_image(image):\n",
    "    cv2_imshow(image)\n",
    "    c = cv2.waitKey()\n",
    "    if c >= 0 : return -1\n",
    "    return 0"
   ]
  },
  {
   "cell_type": "code",
   "execution_count": null,
   "metadata": {},
   "outputs": [],
   "source": [
    "for i in range(len(images_normalized)):\n",
    "  depth_map = images_normalized[i][:, :, 2]\n",
    "\n",
    "  # Set the lower and upper thresholds for filtering\n",
    "  lower_threshold = 30\n",
    "  upper_threshold = 180\n",
    "\n",
    "  # Create a binary mask based on the threshold values\n",
    "  binary_mask = cv2.inRange(depth_map, lower_threshold, upper_threshold)\n",
    "\n",
    "  # Apply the binary mask to the original image to extract the filtered pixels\n",
    "  filtered_image = cv2.bitwise_and(depth_map, depth_map, mask=binary_mask)\n",
    "  contours, hierarchy  = cv2.findContours(filtered_image, cv2.RETR_EXTERNAL, cv2.CHAIN_APPROX_SIMPLE)\n",
    "  contour_image = np.copy(images_normalized[i])\n",
    "  #contour_image = np.copy(images_normalized[i])\n",
    "  filtered_contours = [contour for contour in contours if (3000 < cv2.contourArea(contour) < 12000) and not (5300 < cv2.contourArea(contour) < 5800)]\n",
    "  for j, filtered_contour in enumerate(filtered_contours):\n",
    "    area = cv2.contourArea(filtered_contour)\n",
    "    print(f\"Area of Object {j + 1} of image {i}: {area} square units\")\n",
    "  print(\"------------------------------------------------------------\")\n",
    "\n",
    "  cv2.drawContours(contour_image, filtered_contours, -1, (0, 255, 0), 2) \n",
    "  show_image(contour_image)"
   ]
  },
  {
   "cell_type": "code",
   "execution_count": null,
   "metadata": {},
   "outputs": [],
   "source": [
    "# connected components\n",
    "# getting mask with connectComponents\n",
    "ret, labels = cv2.connectedComponents(filtered_image)\n",
    "for label in range(1,ret):\n",
    "    mask = np.array(labels, dtype=np.uint8)\n",
    "    mask[labels == label] = 255\n",
    "    cv2_imshow(mask)\n",
    "    cv2.waitKey(0)"
   ]
  }
 ],
 "metadata": {
  "kernelspec": {
   "display_name": "base",
   "language": "python",
   "name": "python3"
  },
  "language_info": {
   "codemirror_mode": {
    "name": "ipython",
    "version": 3
   },
   "file_extension": ".py",
   "mimetype": "text/x-python",
   "name": "python",
   "nbconvert_exporter": "python",
   "pygments_lexer": "ipython3",
   "version": "3.10.9"
  }
 },
 "nbformat": 4,
 "nbformat_minor": 2
}
